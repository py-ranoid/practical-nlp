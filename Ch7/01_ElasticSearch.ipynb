{
  "nbformat": 4,
  "nbformat_minor": 0,
  "metadata": {
    "kernelspec": {
      "display_name": "Python 3",
      "language": "python",
      "name": "python3"
    },
    "language_info": {
      "codemirror_mode": {
        "name": "ipython",
        "version": 3
      },
      "file_extension": ".py",
      "mimetype": "text/x-python",
      "name": "python",
      "nbconvert_exporter": "python",
      "pygments_lexer": "ipython3",
      "version": "3.5.6"
    },
    "colab": {
      "name": "ElasticSearch.ipynb",
      "provenance": []
    }
  },
  "cells": [
    {
      "cell_type": "markdown",
      "metadata": {
        "id": "GVXrddQRLrQU",
        "colab_type": "text"
      },
      "source": [
        "This notebook shows how to use Elastic Search to index and search through data. We will use a dataset called CMU Book summaries [dataset](http://www.cs.cmu.edu/~dbamman/booksummaries.html). Alternateively, the dataset's link can be found in the `BookSummaries_Link.md` file under the Data folder in Ch7. \n",
        "\n",
        "For this code to work, elastic search instance has to be running in the background. For this you need to follow these steps:\n",
        "1. Go to the elasticsearch-X.Y.Z/bin folder on your machine\n",
        "2. run ./elasticsearch.  \n",
        "You should now be able to access this instance on localhost:9200\n",
        "Note: This notebook might not work on windows.\n"
      ]
    },
    {
      "cell_type": "code",
      "metadata": {
        "id": "ZbO4arQuLrQe",
        "colab_type": "code",
        "colab": {}
      },
      "source": [
        "from elasticsearch import Elasticsearch \n",
        "from datetime import datetime"
      ],
      "execution_count": 0,
      "outputs": []
    },
    {
      "cell_type": "code",
      "metadata": {
        "id": "G7gy5xXpLrQq",
        "colab_type": "code",
        "colab": {}
      },
      "source": [
        "#elastic search instance has to be running on the machine. Default port is 9200. \n",
        "\n",
        "#Call the Elastic Search instance, and delete any pre-existing index\n",
        "es=Elasticsearch([{'host':'localhost','port':9200}])\n",
        "if es.indices.exists(index=\"myindex\"):\n",
        "    es.indices.delete(index='myindex', ignore=[400, 404]) #Deleting existing index for now "
      ],
      "execution_count": 0,
      "outputs": []
    },
    {
      "cell_type": "code",
      "metadata": {
        "id": "riA5ep9yLrQ1",
        "colab_type": "code",
        "colab": {},
        "outputId": "78d1be5e-3c28-4342-8d36-754146b357ae"
      },
      "source": [
        "#Build an index from booksummaries dataset. I am using only 500 documents for now.\n",
        "path = \"booksummaries.txt\" #Add your path.\n",
        "count = 1\n",
        "for line in open(path):\n",
        "    fields = line.split(\"\\t\")\n",
        "    doc = {'id' : fields[0],\n",
        "            'title': fields[2],\n",
        "            'author': fields[3],\n",
        "            'summary': fields[6]\n",
        "          }\n",
        "\n",
        "    res = es.index(index=\"myindex\", id=fields[0], body=doc)\n",
        "    count = count+1\n",
        "    if count%100 == 0:\n",
        "        print(\"indexed 100 documents\")\n",
        "    if count == 501:\n",
        "        break"
      ],
      "execution_count": 0,
      "outputs": [
        {
          "output_type": "stream",
          "text": [
            "indexed 100 documents\n",
            "indexed 100 documents\n",
            "indexed 100 documents\n",
            "indexed 100 documents\n",
            "indexed 100 documents\n"
          ],
          "name": "stdout"
        }
      ]
    },
    {
      "cell_type": "code",
      "metadata": {
        "id": "RGZjVbWlLrRB",
        "colab_type": "code",
        "colab": {},
        "outputId": "0867238c-15aa-4a01-bbe1-0fce2abc628a"
      },
      "source": [
        "#Check to see how big is the index\n",
        "res = es.search(index=\"myindex\", body={\"query\": {\"match_all\": {}}})\n",
        "print(\"Your index has %d entries\" % res['hits']['total']['value'])"
      ],
      "execution_count": 0,
      "outputs": [
        {
          "output_type": "stream",
          "text": [
            "Your index has 500 entries\n"
          ],
          "name": "stdout"
        }
      ]
    },
    {
      "cell_type": "code",
      "metadata": {
        "id": "Ajt1YhMbLrRI",
        "colab_type": "code",
        "colab": {},
        "outputId": "679721a1-a4a6-45e3-8775-33247e5a1a39"
      },
      "source": [
        "#Try a test query. The query searches \"summary\" field which contains the text\n",
        "#and does a full text query on that field.\n",
        "res = es.search(index=\"myindex\", body={\"query\": {\"match\": {\"summary\": \"animal\"}}})\n",
        "print(\"Your search returned %d results.\" % res['hits']['total']['value'])"
      ],
      "execution_count": 0,
      "outputs": [
        {
          "output_type": "stream",
          "text": [
            "Your search returned 16 results.\n"
          ],
          "name": "stdout"
        }
      ]
    },
    {
      "cell_type": "code",
      "metadata": {
        "id": "tZcEXsQYLrRP",
        "colab_type": "code",
        "colab": {},
        "outputId": "794c9038-9bbe-4dc4-dd73-9283ec42c2f6"
      },
      "source": [
        "#Printing the title field and summary field's first 100 characters for 2nd result\n",
        "print(res[\"hits\"][\"hits\"][2][\"_source\"][\"title\"])\n",
        "print(res[\"hits\"][\"hits\"][2][\"_source\"][\"summary\"][:100])\n"
      ],
      "execution_count": 0,
      "outputs": [
        {
          "output_type": "stream",
          "text": [
            "Dead Air\n",
            " The first person narrative begins on 11 September 2001, and Banks uses the protagonist's conversati\n"
          ],
          "name": "stdout"
        }
      ]
    },
    {
      "cell_type": "code",
      "metadata": {
        "id": "nkYJBQaHLrRW",
        "colab_type": "code",
        "colab": {},
        "outputId": "4ecd428d-fc38-4347-9521-df3f400e6ea4"
      },
      "source": [
        "#match query considers both exact matches, and fuzzy matches and works as a OR query. \n",
        "#match_phrase looks for exact matches.\n",
        "while True:\n",
        "    query = input(\"Enter your search query: \")\n",
        "    if query == \"STOP\":\n",
        "        break\n",
        "    res = es.search(index=\"myindex\", body={\"query\": {\"match_phrase\": {\"summary\": query}}})\n",
        "    print(\"Your search returned %d results:\" % res['hits']['total']['value'])\n",
        "    for hit in res[\"hits\"][\"hits\"]:\n",
        "        print(hit[\"_source\"][\"title\"])\n",
        "        #to get a snippet 100 characters before and after the match\n",
        "        loc = hit[\"_source\"][\"summary\"].lower().index(query)\n",
        "        print(hit[\"_source\"][\"summary\"][:100])\n",
        "        print(hit[\"_source\"][\"summary\"][loc-100:loc+100])\n",
        "\n",
        "    "
      ],
      "execution_count": 0,
      "outputs": [
        {
          "output_type": "stream",
          "text": [
            "Enter your search query: countess\n",
            "Your search returned 7 results:\n",
            "All's Well That Ends Well\n",
            "71\n",
            " Helena, the orphan daughter of a famous physician, is the ward of the Countess of Rousillon, and ho\n",
            "\n",
            "The Last Man\n",
            "904\n",
            " Mary Shelley states in the introduction that in 1818 she discovered, in the Sibyl's cave near Naple\n",
            "ng leaves the throne, the monarchy come to an end and a republic is created. When the king dies the Countess attempts to raise their son, Adrian, to reclaim the throne, but Adrian opposes his mother a\n",
            "The Luck of Barry Lyndon\n",
            "2624\n",
            " Redmond Barry of Bally Barry, born to a genteel but ruined Irish family, fancies himself a gentlema\n",
            "chy, where they win considerable sums of money and Redmond cleverly sets up a plan to marry a young countess of some means. Again, fortune turns against him, and a series of circumstances undermines h\n",
            "Carmilla\n",
            "2554\n",
            " The story is presented by Le Fanu as part of the casebook of Dr Hesselius, whose departures from me\n",
            "ily heirloom restored portraits arrives at the castle, Laura finds one of her ancestors, \"Mircalla, Countess Karnstein\", dated 1698. The portrait resembles Carmilla exactly, down to the mole on her ne\n",
            "Anna Karenina\n",
            "1330\n",
            " The novel is divided into eight parts. Its epigraph is Vengeance is mine, I will repay, from Romans\n",
            " at the railway station to meet Anna, Stiva bumps into Vronsky; he is there to meet his mother, the Countess Vronskaya. Anna and Vronskaya have traveled and talked together in the same carriage. As th\n",
            "Murder on the Orient Express\n",
            "5569\n",
            " Hercule Poirot boards the Orient Express in Constantinople. The train is unusually crowded for the \n",
            "us tragic actress of the New York stage, and was Sonia Armstrong's mother and Daisy's grandmother; *Countess Andrenyi (née Helena Goldenberg) was Sonia Armstrong's sister; *Count Andryeni was the husb\n",
            "War and Peace\n",
            "2612\n",
            " War and Peace has a large cast of characters, the majority of whom are introduced in the first book\n",
            "is impetuous and eager to join the army when of age. The heads of the family, Count Ilya Rostov and Countess Natalya Rostova, are an affectionate couple but forever worried about their disordered fina\n",
            "Enter your search query: STOP\n"
          ],
          "name": "stdout"
        }
      ]
    },
    {
      "cell_type": "code",
      "metadata": {
        "id": "XU7OUNXLLrRd",
        "colab_type": "code",
        "colab": {}
      },
      "source": [
        ""
      ],
      "execution_count": 0,
      "outputs": []
    }
  ]
}
