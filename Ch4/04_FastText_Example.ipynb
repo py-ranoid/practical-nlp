{
 "cells": [
  {
   "cell_type": "markdown",
   "metadata": {},
   "source": [
    "# FastText for classification"
   ]
  },
  {
   "cell_type": "markdown",
   "metadata": {
    "colab_type": "text",
    "id": "6FIToZHAhz2O"
   },
   "source": [
    "In this notebook we will demonstrate using the fastText library to perform text classificatoin on the dbpedie data which can we downloaded from [here](https://github.com/le-scientifique/torchDatasets/raw/master/dbpedia_csv.tar.gz). <br>fastText is a library for learning of word embeddings and text classification created by Facebook's AI Research (FAIR) lab. The model allows to create an unsupervised learning or supervised learning algorithm for obtaining vector representations for words. Facebook makes available pretrained models for 294 languages(source: [wiki](https://en.wikipedia.org/wiki/FastText)).<br>\n",
    "**Note**: This notebook uses an older version of fasttext."
   ]
  },
  {
   "cell_type": "markdown",
   "metadata": {
    "heading_collapsed": true
   },
   "source": [
    "## Setup"
   ]
  },
  {
   "cell_type": "markdown",
   "metadata": {
    "heading_collapsed": true,
    "hidden": true
   },
   "source": [
    "### Imports"
   ]
  },
  {
   "cell_type": "code",
   "execution_count": 1,
   "metadata": {
    "ExecuteTime": {
     "end_time": "2021-01-24T05:40:51.114879Z",
     "start_time": "2021-01-24T05:40:48.537661Z"
    },
    "colab": {
     "base_uri": "https://localhost:8080/",
     "height": 235
    },
    "colab_type": "code",
    "hidden": true,
    "id": "xC9f1uA-OX8J",
    "outputId": "02dfd2ba-06ee-403a-dde6-a2b3ae61014c"
   },
   "outputs": [
    {
     "name": "stdout",
     "output_type": "stream",
     "text": [
      "Requirement already satisfied: fasttext==0.9.2 in /Users/vishalgupta/anaconda3/envs/nlp/lib/python3.6/site-packages (0.9.2)\n",
      "Requirement already satisfied: numpy in /Users/vishalgupta/anaconda3/envs/nlp/lib/python3.6/site-packages (from fasttext==0.9.2) (1.19.0)\n",
      "Requirement already satisfied: setuptools>=0.7.0 in /Users/vishalgupta/anaconda3/envs/nlp/lib/python3.6/site-packages (from fasttext==0.9.2) (49.6.0.post20200814)\n",
      "Requirement already satisfied: pybind11>=2.2 in /Users/vishalgupta/anaconda3/envs/nlp/lib/python3.6/site-packages (from fasttext==0.9.2) (2.5.0)\n"
     ]
    }
   ],
   "source": [
    "!pip install fasttext==0.9.2"
   ]
  },
  {
   "cell_type": "code",
   "execution_count": 1,
   "metadata": {
    "ExecuteTime": {
     "end_time": "2021-03-20T05:11:21.398964Z",
     "start_time": "2021-03-20T05:11:21.352996Z"
    },
    "colab": {},
    "colab_type": "code",
    "hidden": true,
    "id": "YKgZXvTGb61z"
   },
   "outputs": [],
   "source": [
    "#necessary imports\n",
    "import pandas as pd\n",
    "import os, sys\n",
    "\n",
    "#importing utils\n",
    "sys.path.insert(0,os.path.split(os.getcwd())[0]) \n",
    "import utils"
   ]
  },
  {
   "cell_type": "markdown",
   "metadata": {
    "heading_collapsed": true,
    "hidden": true
   },
   "source": [
    "### Downloading data"
   ]
  },
  {
   "cell_type": "code",
   "execution_count": 25,
   "metadata": {
    "ExecuteTime": {
     "end_time": "2021-03-20T05:27:20.640887Z",
     "start_time": "2021-03-20T05:26:53.386870Z"
    },
    "hidden": true
   },
   "outputs": [
    {
     "name": "stdout",
     "output_type": "stream",
     "text": [
      "Downloading https://github.com/le-scientifique/torchDatasets/raw/master/dbpedia_csv.tar.gz --> Data/dbpedia_csv.tar.gz\n",
      "Extracting Data/dbpedia_csv.tar.gz --> Data/dbpedia_csv\n",
      "dbpedia_csv/\n",
      "    classes.txt\n",
      "    test.csv\n",
      "    readme.txt\n",
      "    train.csv\n"
     ]
    }
   ],
   "source": [
    "DATA_PATH=\"Data\"\n",
    "DATA_TAR_PATH = utils.download_file(url='https://github.com/le-scientifique/torchDatasets/raw/master/dbpedia_csv.tar.gz', directory=DATA_PATH)\n",
    "DBPEDIA_DIR = utils.extract_tar(DATA_TAR_PATH)\n",
    "utils.list_files(DBPEDIA_DIR)"
   ]
  },
  {
   "cell_type": "markdown",
   "metadata": {
    "heading_collapsed": true
   },
   "source": [
    "## EDA"
   ]
  },
  {
   "cell_type": "code",
   "execution_count": 123,
   "metadata": {
    "ExecuteTime": {
     "end_time": "2021-03-20T11:16:58.142905Z",
     "start_time": "2021-03-20T11:16:55.551304Z"
    },
    "colab": {
     "base_uri": "https://localhost:8080/",
     "height": 34
    },
    "colab_type": "code",
    "hidden": true,
    "id": "lMoRw3oQb62I",
    "outputId": "4a9015af-de57-41f3-d932-fa255e48063f"
   },
   "outputs": [
    {
     "name": "stdout",
     "output_type": "stream",
     "text": [
      "Train Data Shape :\t(560000, 3)\n",
      "Test Data Shape :\t(70000, 3)\n"
     ]
    }
   ],
   "source": [
    "data_path = 'DATAPATH'\n",
    "\n",
    "# Loading train data\n",
    "train_file = os.path.join(DBPEDIA_DIR, 'train.csv')\n",
    "df = pd.read_csv(train_file, header=None, names=['class','name','description'])\n",
    "\n",
    "# Loading test data\n",
    "test_file = os.path.join(DBPEDIA_DIR, 'test.csv')\n",
    "df_test = pd.read_csv(test_file, header=None, names=['class','name','description'])\n",
    "\n",
    "# Data we have\n",
    "print(\"Train Data Shape :\\t{}\\nTest Data Shape :\\t{}\".format(df.shape,df_test.shape))"
   ]
  },
  {
   "cell_type": "code",
   "execution_count": 124,
   "metadata": {
    "ExecuteTime": {
     "end_time": "2021-03-20T11:17:22.303180Z",
     "start_time": "2021-03-20T11:17:22.075789Z"
    },
    "colab": {
     "base_uri": "https://localhost:8080/",
     "height": 195
    },
    "colab_type": "code",
    "hidden": true,
    "id": "gaz226vXb62W",
    "outputId": "9136af68-a5d9-4041-d13c-52d26c38a59c"
   },
   "outputs": [
    {
     "data": {
      "text/html": [
       "<div>\n",
       "<style scoped>\n",
       "    .dataframe tbody tr th:only-of-type {\n",
       "        vertical-align: middle;\n",
       "    }\n",
       "\n",
       "    .dataframe tbody tr th {\n",
       "        vertical-align: top;\n",
       "    }\n",
       "\n",
       "    .dataframe thead th {\n",
       "        text-align: right;\n",
       "    }\n",
       "</style>\n",
       "<table border=\"1\" class=\"dataframe\">\n",
       "  <thead>\n",
       "    <tr style=\"text-align: right;\">\n",
       "      <th></th>\n",
       "      <th>class</th>\n",
       "      <th>name</th>\n",
       "      <th>description</th>\n",
       "      <th>class_name</th>\n",
       "    </tr>\n",
       "  </thead>\n",
       "  <tbody>\n",
       "    <tr>\n",
       "      <th>494936</th>\n",
       "      <td>13</td>\n",
       "      <td>The Horror of It All</td>\n",
       "      <td>The Horror of It All is a 1963 horror comedy ...</td>\n",
       "      <td>Film</td>\n",
       "    </tr>\n",
       "    <tr>\n",
       "      <th>370640</th>\n",
       "      <td>10</td>\n",
       "      <td>Pseudotolithus</td>\n",
       "      <td>Pseudotolithus is a genus of croaker or bar r...</td>\n",
       "      <td>Animal</td>\n",
       "    </tr>\n",
       "    <tr>\n",
       "      <th>424816</th>\n",
       "      <td>11</td>\n",
       "      <td>Nectandra barbellata</td>\n",
       "      <td>Nectandra barbellata is a species of plant in...</td>\n",
       "      <td>Plant</td>\n",
       "    </tr>\n",
       "    <tr>\n",
       "      <th>433970</th>\n",
       "      <td>11</td>\n",
       "      <td>Oxalis ecuadorensis</td>\n",
       "      <td>Oxalis ecuadorensis is a species of plant in ...</td>\n",
       "      <td>Plant</td>\n",
       "    </tr>\n",
       "    <tr>\n",
       "      <th>12748</th>\n",
       "      <td>1</td>\n",
       "      <td>BIS Records</td>\n",
       "      <td>BIS Records is a record label founded in 1973...</td>\n",
       "      <td>Company</td>\n",
       "    </tr>\n",
       "  </tbody>\n",
       "</table>\n",
       "</div>"
      ],
      "text/plain": [
       "        class                  name  \\\n",
       "494936     13  The Horror of It All   \n",
       "370640     10        Pseudotolithus   \n",
       "424816     11  Nectandra barbellata   \n",
       "433970     11   Oxalis ecuadorensis   \n",
       "12748       1           BIS Records   \n",
       "\n",
       "                                              description class_name  \n",
       "494936   The Horror of It All is a 1963 horror comedy ...       Film  \n",
       "370640   Pseudotolithus is a genus of croaker or bar r...     Animal  \n",
       "424816   Nectandra barbellata is a species of plant in...      Plant  \n",
       "433970   Oxalis ecuadorensis is a species of plant in ...      Plant  \n",
       "12748    BIS Records is a record label founded in 1973...    Company  "
      ]
     },
     "execution_count": 124,
     "metadata": {},
     "output_type": "execute_result"
    }
   ],
   "source": [
    "# Since we have no clue about the classes lets build one\n",
    "# Mapping from class number to class name\n",
    "class_dict={\n",
    "            1:'Company',\n",
    "            2:'EducationalInstitution',\n",
    "            3:'Artist',\n",
    "            4:'Athlete',\n",
    "            5:'OfficeHolder',\n",
    "            6:'MeanOfTransportation',\n",
    "            7:'Building',\n",
    "            8:'NaturalPlace',\n",
    "            9:'Village',\n",
    "            10:'Animal',\n",
    "            11:'Plant',\n",
    "            12:'Album',\n",
    "            13:'Film',\n",
    "            14:'WrittenWork'\n",
    "        }\n",
    "\n",
    "# Mapping the classes\n",
    "df['class_name'] = df['class'].map(class_dict)\n",
    "\n",
    "df = df[df['class_name'].isin(['Athlete','Animal','Plant','Company','MeanOfTransportation','Film'])]\n",
    "df.sample(5)"
   ]
  },
  {
   "cell_type": "code",
   "execution_count": 125,
   "metadata": {
    "ExecuteTime": {
     "end_time": "2021-03-20T11:17:26.282143Z",
     "start_time": "2021-03-20T11:17:26.239615Z"
    },
    "colab": {
     "base_uri": "https://localhost:8080/",
     "height": 269
    },
    "colab_type": "code",
    "hidden": true,
    "id": "si7VC_Rub62a",
    "outputId": "8c8e6220-8028-460c-8042-95b9fa25152b"
   },
   "outputs": [
    {
     "data": {
      "text/plain": [
       "Film                    40000\n",
       "Company                 40000\n",
       "Athlete                 40000\n",
       "Plant                   40000\n",
       "MeanOfTransportation    40000\n",
       "Animal                  40000\n",
       "Name: class_name, dtype: int64"
      ]
     },
     "execution_count": 125,
     "metadata": {},
     "output_type": "execute_result"
    }
   ],
   "source": [
    "df[\"class_name\"].value_counts()"
   ]
  },
  {
   "cell_type": "markdown",
   "metadata": {
    "hidden": true
   },
   "source": [
    "#### Printing samples from different classes"
   ]
  },
  {
   "cell_type": "code",
   "execution_count": 126,
   "metadata": {
    "ExecuteTime": {
     "end_time": "2021-03-20T11:17:29.630612Z",
     "start_time": "2021-03-20T11:17:29.590154Z"
    },
    "hidden": true
   },
   "outputs": [
    {
     "name": "stdout",
     "output_type": "stream",
     "text": [
      "- Richard J. Dick Burke (28 October 1920 – 2004) was an English professional footballer. A left back or right back he played in the Football League for Blackpool Newcastle United and Carlisle United.\n",
      "\n",
      "- Dan Kimmel is a professional bass angler located in Lansing Michigan. He has won twenty-five money tournaments and twenty-eight fishing angler awards.In 1990 he won a Special Conservation award from the Michigan United Conservation Clubs.\n",
      "\n",
      "- Spencer E. Wishart (3 December 1889 – 22 August 1914) was an American racecar driver. He was active during the early years of the Indianapolis 500.\n"
     ]
    }
   ],
   "source": [
    "print('-'+'\\n\\n-'.join(df[df['class_name']==\"Athlete\"].description.sample(3).to_list()))"
   ]
  },
  {
   "cell_type": "code",
   "execution_count": 141,
   "metadata": {
    "ExecuteTime": {
     "end_time": "2021-03-20T11:26:19.093775Z",
     "start_time": "2021-03-20T11:26:19.023329Z"
    },
    "hidden": true,
    "scrolled": true
   },
   "outputs": [
    {
     "name": "stdout",
     "output_type": "stream",
     "text": [
      "- Nidhiyude Katha (The Treasure) is an experimental film written and directed by Vijayakrishnan.\n",
      "\n",
      "- Relax Freddie (Danish: Slap af Frede!) is a 1966 Danish comedy film directed by Erik Balling and starring Morten Grunwald. It is a sequel to Slå først Frede!.\n",
      "\n",
      "- Madeleine is a 1950 film directed by David Lean based on a true story about Madeleine Smith a young Glasgow woman from a wealthy family who was tried in 1857 for the murder of her lover Emile L'Angelier. The trial was much publicized in the newspapers of the day and was labelled the trial of the century. Lean's adaptation of the story stars his then wife Ann Todd with Ivan Desny as her French lover.\n"
     ]
    }
   ],
   "source": [
    "print('-'+'\\n\\n-'.join(df[df['class_name']==\"Film\"].description.sample(3).to_list()))"
   ]
  },
  {
   "cell_type": "markdown",
   "metadata": {
    "heading_collapsed": true
   },
   "source": [
    "## Preprocessing"
   ]
  },
  {
   "cell_type": "code",
   "execution_count": 128,
   "metadata": {
    "ExecuteTime": {
     "end_time": "2021-03-20T11:17:34.138670Z",
     "start_time": "2021-03-20T11:17:34.110834Z"
    },
    "colab": {},
    "colab_type": "code",
    "hidden": true,
    "id": "Sn-3kIqMb62d"
   },
   "outputs": [],
   "source": [
    "# Lets do some cleaning of this text\n",
    "def clean_it(text,normalize=True):\n",
    "    # Replacing possible issues with data. We can add or reduce the replacemtent in this chain\n",
    "    s = str(text).replace(',',' ').replace('\"','').replace('\\'',' \\' ').replace('.',' . ').replace('(',' ( ').\\\n",
    "            replace(')',' ) ').replace('!',' ! ').replace('?',' ? ').replace(':',' ').replace(';',' ').lower()\n",
    "    \n",
    "    # normalizing / encoding the text\n",
    "    if normalize:\n",
    "        s = s.normalize('NFKD').str.encode('ascii','ignore').str.decode('utf-8')\n",
    "    \n",
    "    return s\n",
    "\n",
    "# Now lets define a small function where we can use above cleaning on datasets\n",
    "def clean_df(data, cleanit= False, shuffleit=False, encodeit=False, label_prefix='__class__'):\n",
    "    # Defining the new data\n",
    "    df = data[['name','description']].copy(deep=True)\n",
    "    df['class'] = label_prefix + data['class'].astype(str) + ' '\n",
    "    \n",
    "    # cleaning it\n",
    "    if cleanit:\n",
    "        df['name'] = df['name'].apply(lambda x: clean_it(x,encodeit))\n",
    "        df['description'] = df['description'].apply(lambda x: clean_it(x,encodeit))\n",
    "    \n",
    "    # shuffling it\n",
    "    if shuffleit:\n",
    "        df.sample(frac=1).reset_index(drop=True)\n",
    "            \n",
    "    return df"
   ]
  },
  {
   "cell_type": "code",
   "execution_count": 130,
   "metadata": {
    "ExecuteTime": {
     "end_time": "2021-03-20T11:17:39.785685Z",
     "start_time": "2021-03-20T11:17:37.243569Z"
    },
    "colab": {
     "base_uri": "https://localhost:8080/",
     "height": 50
    },
    "colab_type": "code",
    "hidden": true,
    "id": "r_DRvdFcb62m",
    "outputId": "140ec680-99f8-4f2d-c00f-ebbb1cd5e9ae"
   },
   "outputs": [],
   "source": [
    "# Transform the datasets using the above clean functions\n",
    "df_train_cleaned = clean_df(df, True, True)\n",
    "df_test_cleaned = clean_df(df_test, True, True)"
   ]
  },
  {
   "cell_type": "code",
   "execution_count": 131,
   "metadata": {
    "ExecuteTime": {
     "end_time": "2021-03-20T11:17:39.866487Z",
     "start_time": "2021-03-20T11:17:39.789280Z"
    },
    "hidden": true
   },
   "outputs": [
    {
     "data": {
      "text/plain": [
       "__class__1      40000\n",
       "__class__11     40000\n",
       "__class__10     40000\n",
       "__class__6      40000\n",
       "__class__4      40000\n",
       "__class__13     40000\n",
       "Name: class, dtype: int64"
      ]
     },
     "execution_count": 131,
     "metadata": {},
     "output_type": "execute_result"
    }
   ],
   "source": [
    "df_train_cleaned['class'].value_counts()"
   ]
  },
  {
   "cell_type": "code",
   "execution_count": 132,
   "metadata": {
    "ExecuteTime": {
     "end_time": "2021-03-20T11:17:42.238532Z",
     "start_time": "2021-03-20T11:17:42.161674Z"
    },
    "hidden": true
   },
   "outputs": [
    {
     "data": {
      "text/html": [
       "<div>\n",
       "<style scoped>\n",
       "    .dataframe tbody tr th:only-of-type {\n",
       "        vertical-align: middle;\n",
       "    }\n",
       "\n",
       "    .dataframe tbody tr th {\n",
       "        vertical-align: top;\n",
       "    }\n",
       "\n",
       "    .dataframe thead th {\n",
       "        text-align: right;\n",
       "    }\n",
       "</style>\n",
       "<table border=\"1\" class=\"dataframe\">\n",
       "  <thead>\n",
       "    <tr style=\"text-align: right;\">\n",
       "      <th></th>\n",
       "      <th>name</th>\n",
       "      <th>description</th>\n",
       "      <th>class</th>\n",
       "    </tr>\n",
       "  </thead>\n",
       "  <tbody>\n",
       "    <tr>\n",
       "      <th>0</th>\n",
       "      <td>e .  d .  abbott ltd</td>\n",
       "      <td>abbott of farnham e d abbott limited was a br...</td>\n",
       "      <td>__class__1</td>\n",
       "    </tr>\n",
       "    <tr>\n",
       "      <th>1</th>\n",
       "      <td>schwan-stabilo</td>\n",
       "      <td>schwan-stabilo is a german maker of pens for ...</td>\n",
       "      <td>__class__1</td>\n",
       "    </tr>\n",
       "    <tr>\n",
       "      <th>2</th>\n",
       "      <td>q-workshop</td>\n",
       "      <td>q-workshop is a polish company located in poz...</td>\n",
       "      <td>__class__1</td>\n",
       "    </tr>\n",
       "    <tr>\n",
       "      <th>3</th>\n",
       "      <td>marvell software solutions israel</td>\n",
       "      <td>marvell software solutions israel known as ra...</td>\n",
       "      <td>__class__1</td>\n",
       "    </tr>\n",
       "    <tr>\n",
       "      <th>4</th>\n",
       "      <td>bergan mercy medical center</td>\n",
       "      <td>bergan mercy medical center is a hospital loc...</td>\n",
       "      <td>__class__1</td>\n",
       "    </tr>\n",
       "  </tbody>\n",
       "</table>\n",
       "</div>"
      ],
      "text/plain": [
       "                                name  \\\n",
       "0               e .  d .  abbott ltd   \n",
       "1                     schwan-stabilo   \n",
       "2                         q-workshop   \n",
       "3  marvell software solutions israel   \n",
       "4        bergan mercy medical center   \n",
       "\n",
       "                                         description        class  \n",
       "0   abbott of farnham e d abbott limited was a br...  __class__1   \n",
       "1   schwan-stabilo is a german maker of pens for ...  __class__1   \n",
       "2   q-workshop is a polish company located in poz...  __class__1   \n",
       "3   marvell software solutions israel known as ra...  __class__1   \n",
       "4   bergan mercy medical center is a hospital loc...  __class__1   "
      ]
     },
     "execution_count": 132,
     "metadata": {},
     "output_type": "execute_result"
    }
   ],
   "source": [
    "df_train_cleaned.head()"
   ]
  },
  {
   "cell_type": "code",
   "execution_count": 133,
   "metadata": {
    "ExecuteTime": {
     "end_time": "2021-03-20T11:17:52.030696Z",
     "start_time": "2021-03-20T11:17:48.325977Z"
    },
    "colab": {},
    "colab_type": "code",
    "hidden": true,
    "id": "imMZ9-Bkb62t"
   },
   "outputs": [],
   "source": [
    "# Write files to disk as fastText classifier API reads files from disk.\n",
    "train_file = os.path.join(DBPEDIA_DIR,'train_clean.csv')\n",
    "df_train_cleaned.to_csv(train_file, header=None, index=False, columns=['class','name','description'])\n",
    "\n",
    "test_file = os.path.join(DBPEDIA_DIR, 'test_clean.csv')\n",
    "df_test_cleaned = df_test_cleaned[df_test_cleaned['class'].isin(df_train_cleaned['class'].unique())]\n",
    "df_test_cleaned.to_csv(test_file, header=None, index=False, columns=['class','name','description'])"
   ]
  },
  {
   "cell_type": "markdown",
   "metadata": {
    "colab_type": "text",
    "hidden": true,
    "id": "bWZTSzd9b62x"
   },
   "source": [
    "Now that we have the train and test files written into disk in a format fastText wants, we are ready to use it for text classification!"
   ]
  },
  {
   "cell_type": "markdown",
   "metadata": {
    "heading_collapsed": true
   },
   "source": [
    "## Training"
   ]
  },
  {
   "cell_type": "code",
   "execution_count": 134,
   "metadata": {
    "ExecuteTime": {
     "end_time": "2021-03-20T11:22:56.944567Z",
     "start_time": "2021-03-20T11:17:55.478238Z"
    },
    "colab": {
     "base_uri": "https://localhost:8080/",
     "height": 52
    },
    "colab_type": "code",
    "hidden": true,
    "id": "a-H1wouCb62x",
    "outputId": "c4f88ae8-0314-480e-e201-6a905a0b3fdb"
   },
   "outputs": [
    {
     "name": "stdout",
     "output_type": "stream",
     "text": [
      "CPU times: user 9min 36s, sys: 11.4 s, total: 9min 47s\n",
      "Wall time: 5min 1s\n"
     ]
    }
   ],
   "source": [
    "%%time\n",
    "## Using fastText for feature extraction and training\n",
    "from fasttext import train_supervised \n",
    "\"\"\"fastText expects and training file (csv), a model name as input arguments.\n",
    "label_prefix refers to the prefix before label string in the dataset.\n",
    "default is __label__. In our dataset, it is __class__. \n",
    "There are several other parameters which can be seen in: \n",
    "https://pypi.org/project/fasttext/\n",
    "\"\"\"\n",
    "model = train_supervised(input=train_file, label=\"__class__\", lr=1.0, epoch=75, loss='ova', wordNgrams=2, dim=200, thread=2, verbose=100)"
   ]
  },
  {
   "cell_type": "markdown",
   "metadata": {
    "colab_type": "text",
    "hidden": true,
    "id": "nrxSYRs3b621"
   },
   "source": [
    "Try training a classifier on this dataset with, say, LogisticRegression to realize how fast fastText is! 93% Precision and Recall are hard numbers to beat, too!"
   ]
  },
  {
   "cell_type": "markdown",
   "metadata": {
    "heading_collapsed": true
   },
   "source": [
    "## Evaluation"
   ]
  },
  {
   "cell_type": "code",
   "execution_count": 143,
   "metadata": {
    "ExecuteTime": {
     "end_time": "2021-03-20T11:27:58.787136Z",
     "start_time": "2021-03-20T11:27:57.939882Z"
    },
    "hidden": true
   },
   "outputs": [
    {
     "name": "stdout",
     "output_type": "stream",
     "text": [
      "Test Samples: 30000 Precision@5 : 98.5367 Recall@5 : 98.5367\n"
     ]
    }
   ],
   "source": [
    "results = model.test(test_file)\n",
    "print(f\"Test Samples: {results[0]} Precision@{k} : {results[1]*100:2.4f} Recall@{k} : {results[2]*100:2.4f}\")"
   ]
  },
  {
   "cell_type": "code",
   "execution_count": 142,
   "metadata": {
    "ExecuteTime": {
     "end_time": "2021-03-20T11:27:39.667414Z",
     "start_time": "2021-03-20T11:27:39.626755Z"
    },
    "colab": {},
    "colab_type": "code",
    "hidden": true,
    "id": "Bp9w8RScruz7"
   },
   "outputs": [
    {
     "data": {
      "text/html": [
       "<div>\n",
       "<style scoped>\n",
       "    .dataframe tbody tr th:only-of-type {\n",
       "        vertical-align: middle;\n",
       "    }\n",
       "\n",
       "    .dataframe tbody tr th {\n",
       "        vertical-align: top;\n",
       "    }\n",
       "\n",
       "    .dataframe thead th {\n",
       "        text-align: right;\n",
       "    }\n",
       "</style>\n",
       "<table border=\"1\" class=\"dataframe\">\n",
       "  <thead>\n",
       "    <tr style=\"text-align: right;\">\n",
       "      <th></th>\n",
       "      <th>pred</th>\n",
       "      <th>prob</th>\n",
       "    </tr>\n",
       "  </thead>\n",
       "  <tbody>\n",
       "    <tr>\n",
       "      <th>Dugong</th>\n",
       "      <td>Animal</td>\n",
       "      <td>0.966924</td>\n",
       "    </tr>\n",
       "    <tr>\n",
       "      <th>Michael Phelps</th>\n",
       "      <td>Athlete</td>\n",
       "      <td>1.000010</td>\n",
       "    </tr>\n",
       "    <tr>\n",
       "      <th>Neelakurinji Flower</th>\n",
       "      <td>Plant</td>\n",
       "      <td>1.000010</td>\n",
       "    </tr>\n",
       "    <tr>\n",
       "      <th>DeepMind</th>\n",
       "      <td>Company</td>\n",
       "      <td>1.000010</td>\n",
       "    </tr>\n",
       "    <tr>\n",
       "      <th>Shinkasen</th>\n",
       "      <td>MeanOfTransportation</td>\n",
       "      <td>0.515630</td>\n",
       "    </tr>\n",
       "    <tr>\n",
       "      <th>Green Book</th>\n",
       "      <td>Film</td>\n",
       "      <td>1.000010</td>\n",
       "    </tr>\n",
       "  </tbody>\n",
       "</table>\n",
       "</div>"
      ],
      "text/plain": [
       "                                     pred      prob\n",
       "Dugong                             Animal  0.966924\n",
       "Michael Phelps                    Athlete  1.000010\n",
       "Neelakurinji Flower                 Plant  1.000010\n",
       "DeepMind                          Company  1.000010\n",
       "Shinkasen            MeanOfTransportation  0.515630\n",
       "Green Book                           Film  1.000010"
      ]
     },
     "execution_count": 142,
     "metadata": {},
     "output_type": "execute_result"
    }
   ],
   "source": [
    "def get_pred(doc):\n",
    "    scores = model.predict(clean_it(doc,False))\n",
    "    return pd.Series(dict(pred=[class_dict[int(i.replace('__class__',''))] for i in scores[0]][0],prob=scores[1][0]))\n",
    "\n",
    "sample_docs = {\n",
    "    \"Dugong\" : \"The dugong is a medium-sized marine mammal. It is one of four living species of the order Sirenia, which also includes three species of manatees. It is the only living representative of the once-diverse family Dugongidae; its closest modern relative, Steller's sea cow, was hunted to extinction in the 18th century.\",\n",
    "    \"Michael Phelps\" : \"Michael Fred Phelps II is an American former competitive swimmer and the most successful and most decorated Olympian of all time, with a total of 28 medals. Phelps also holds the all-time records for Olympic gold medals, Olympic gold medals in individual events, and Olympic medals in individual events.\",\n",
    "    \"Neelakurinji Flower\" : \"Strobilanthes kunthiana, known as Kurinji or Neelakurinji in Tamil, is a shrub that is found in the shola forests of the Western Ghats in Kerala. Nilgiri Hills, which literally means the blue mountains, got their name from the purplish blue flowers of Neelakurinji that blossoms only once in 12 years.\",\n",
    "    \"DeepMind\" : \"DeepMind Technologies is a British artificial intelligence subsidiary of Alphabet Inc. and research laboratory founded in September 2010. DeepMind was acquired by Google in 2014. The company is based in London, with research centres in Canada, France, and the United States.\",\n",
    "    \"Shinkasen\" : \"The Shinkansen, colloquially known in English as the bullet train, is a network of high-speed railway lines in Japan. Initially, it was built to connect distant Japanese regions with Tokyo, the capital, to aid economic growth and development.\",\n",
    "    'Green Book': \"Green Book is a 2018 American biographical comedy-drama buddy film directed by Peter Farrelly. Set in 1962, the film is inspired by the true story of a tour of the Deep South by African American classical and jazz pianist Don Shirley and Italian American bouncer Frank Tony Lip Vallelonga who served as Shirley's driver and bodyguard.\"\n",
    "}\n",
    "\n",
    "pd.DataFrame(pd.Series(sample_docs))[0].apply(get_pred)"
   ]
  }
 ],
 "metadata": {
  "colab": {
   "name": "FastText_Example.ipynb",
   "provenance": []
  },
  "kernelspec": {
   "display_name": "Python 3",
   "language": "python",
   "name": "python3"
  },
  "language_info": {
   "codemirror_mode": {
    "name": "ipython",
    "version": 3
   },
   "file_extension": ".py",
   "mimetype": "text/x-python",
   "name": "python",
   "nbconvert_exporter": "python",
   "pygments_lexer": "ipython3",
   "version": "3.6.10"
  }
 },
 "nbformat": 4,
 "nbformat_minor": 1
}
