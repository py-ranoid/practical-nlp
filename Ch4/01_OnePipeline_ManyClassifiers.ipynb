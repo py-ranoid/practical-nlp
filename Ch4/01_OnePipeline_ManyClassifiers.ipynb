{
 "cells": [
  {
   "cell_type": "markdown",
   "metadata": {
    "colab_type": "text",
    "id": "janWv1vG5xUD"
   },
   "source": [
    "# Text Classification with Naive Bayes, Logistic Regression, SVM"
   ]
  },
  {
   "cell_type": "markdown",
   "metadata": {},
   "source": [
    "### Overview"
   ]
  },
  {
   "cell_type": "markdown",
   "metadata": {
    "ExecuteTime": {
     "end_time": "2020-08-28T04:51:25.478681Z",
     "start_time": "2020-08-28T04:51:25.396972Z"
    }
   },
   "source": [
    "This notebook aims to give you a brief overview of performing text classification using Naive Bayes, Logistic Regression and Support Vector Machines. We will be using a dataset called \"Economic news article tone and relevance\" from [Figure-Eight](https://github.com/practical-nlp/practical-nlp/blob/master/Ch4/Data/Full-Economic-News-DFE-839861.csv) which consists of approximately 8000 news articles, which were tagged as relevant or not relevant to the US Economy. Our goal in this notebook is to explore the process of training and testing text classifiers for this problem, using this data set and two text classification algorithms: Multinomial Naive Bayes and Logistic Regression, implemented in sklearn. \n",
    "\n",
    "##### Dataset Link: In the a folder called Data in folder Ch4 of this repo\n",
    "<br><br>\n",
    "Let's import few necessary packages before we start our work"
   ]
  },
  {
   "cell_type": "code",
   "execution_count": 1,
   "metadata": {
    "ExecuteTime": {
     "end_time": "2020-08-30T06:46:37.644727Z",
     "start_time": "2020-08-30T06:46:36.914350Z"
    },
    "colab": {
     "base_uri": "https://localhost:8080/",
     "height": 70
    },
    "colab_type": "code",
    "id": "QBvvarqE5xWm",
    "outputId": "aa45dbb3-dde0-436a-ab7b-cb6ea9bcbcf1"
   },
   "outputs": [
    {
     "name": "stderr",
     "output_type": "stream",
     "text": [
      "/Users/vishalgupta/anaconda3/envs/nlp/lib/python3.6/site-packages/sklearn/utils/deprecation.py:143: FutureWarning: The sklearn.feature_extraction.stop_words module is  deprecated in version 0.22 and will be removed in version 0.24. The corresponding classes / functions should instead be imported from sklearn.feature_extraction.text. Anything that cannot be imported from sklearn.feature_extraction.text is now part of the private API.\n",
      "  warnings.warn(message, FutureWarning)\n"
     ]
    }
   ],
   "source": [
    "import numpy as np\n",
    "import pandas as pd #to work with csv files\n",
    "\n",
    "#matplotlib imports are used to plot confusion matrices for the classifiers\n",
    "import matplotlib as mpl \n",
    "import matplotlib.cm as cm \n",
    "import matplotlib.pyplot as plt \n",
    "\n",
    "#To download the dataset\n",
    "import os, subprocess\n",
    "\n",
    "#import feature extraction methods from sklearn\n",
    "from sklearn.feature_extraction.text import CountVectorizer\n",
    "from sklearn.feature_extraction import stop_words\n",
    "\n",
    "#pre-processing of text\n",
    "import string\n",
    "import re\n",
    "\n",
    "#import classifiers from sklearn\n",
    "from sklearn.naive_bayes import MultinomialNB\n",
    "from sklearn.linear_model import LogisticRegression\n",
    "from sklearn.svm import LinearSVC\n",
    "\n",
    "#import different metrics to evaluate the classifiers\n",
    "from sklearn.metrics import accuracy_score\n",
    "from sklearn.model_selection import train_test_split\n",
    "from sklearn.metrics import confusion_matrix \n",
    "from sklearn import metrics\n",
    "\n",
    "#import time function from time module to track the training duration\n",
    "from time import time"
   ]
  },
  {
   "cell_type": "markdown",
   "metadata": {
    "ExecuteTime": {
     "end_time": "2020-08-28T14:11:12.455181Z",
     "start_time": "2020-08-28T14:11:10.602081Z"
    },
    "heading_collapsed": true
   },
   "source": [
    "### Loading the Data"
   ]
  },
  {
   "cell_type": "code",
   "execution_count": 2,
   "metadata": {
    "ExecuteTime": {
     "end_time": "2020-08-30T06:46:37.814721Z",
     "start_time": "2020-08-30T06:46:37.647048Z"
    },
    "colab": {
     "base_uri": "https://localhost:8080/",
     "height": 269
    },
    "colab_type": "code",
    "hidden": true,
    "id": "tZkcGcXp9wq1",
    "outputId": "ea1bb924-36da-4a12-e3c9-30d1808f4660"
   },
   "outputs": [],
   "source": [
    "DATA_PATH = \"Data\"\n",
    "URL = \"https://raw.githubusercontent.com/practical-nlp/practical-nlp/master/Ch4/Data/Full-Economic-News-DFE-839861.csv\"\n",
    "FILE_PATH = os.path.join(DATA_PATH, URL.split('/')[-1])\n",
    "if not os.path.exists(FILE_PATH):\n",
    "    process = subprocess.run(\"curl %s --output %s\"%(URL, FILE_PATH), shell=True, check=True, stdout=subprocess.PIPE, universal_newlines=True)\n",
    "articles_df = pd.read_csv(FILE_PATH , encoding = \"ISO-8859-1\")"
   ]
  },
  {
   "cell_type": "code",
   "execution_count": 3,
   "metadata": {
    "ExecuteTime": {
     "end_time": "2020-08-30T06:46:37.856959Z",
     "start_time": "2020-08-30T06:46:37.817617Z"
    },
    "colab": {
     "base_uri": "https://localhost:8080/",
     "height": 101
    },
    "colab_type": "code",
    "hidden": true,
    "id": "LbED8Q185xWu",
    "outputId": "6bc758e1-c542-4309-a8b7-f9ae406bde7d"
   },
   "outputs": [
    {
     "name": "stdout",
     "output_type": "stream",
     "text": [
      "Number of rows (instances) and columns in the dataset: (8000, 15)\n",
      "Distribution of relevance (class label) :\n",
      "no          0.821375\n",
      "yes         0.177500\n",
      "not sure    0.001125\n",
      "Name: relevance, dtype: float64\n"
     ]
    }
   ],
   "source": [
    "print(\"Number of rows (instances) and columns in the dataset:\",articles_df.shape)\n",
    "print(\"Distribution of relevance (class label) :\")\n",
    "print(articles_df[\"relevance\"].value_counts()/articles_df.shape[0])"
   ]
  },
  {
   "cell_type": "markdown",
   "metadata": {
    "colab_type": "text",
    "hidden": true,
    "id": "vCED1t7F5xW9"
   },
   "source": [
    "- There is an imbalance in the data with **not relevant** being 82% in the dataset. \n",
    "- That is, most of the articles are not relevant to US Economy, which makes sense in a real-world scenario, as news articles discuss various topics. \n",
    "- We should keep this class imbalance mind when interpreting the classifier performance later. "
   ]
  },
  {
   "cell_type": "markdown",
   "metadata": {
    "hidden": true
   },
   "source": [
    "#### Encoding class labels\n",
    "- 1 for Yes (relevant) & 0 for No (not relevant)\n",
    "- Ignore \"Not sure\". "
   ]
  },
  {
   "cell_type": "code",
   "execution_count": 4,
   "metadata": {
    "ExecuteTime": {
     "end_time": "2020-08-30T06:46:37.896586Z",
     "start_time": "2020-08-30T06:46:37.859900Z"
    },
    "colab": {
     "base_uri": "https://localhost:8080/",
     "height": 34
    },
    "colab_type": "code",
    "hidden": true,
    "id": "BYW_S3585xXF",
    "outputId": "988c2d6e-9826-4651-d6b6-2464d2479062"
   },
   "outputs": [
    {
     "name": "stdout",
     "output_type": "stream",
     "text": [
      "Number of rows after filtering our articles where relevance is 'not sure': (7991, 15)\n"
     ]
    }
   ],
   "source": [
    "articles_df = articles_df[articles_df.relevance != \"not sure\"]\n",
    "print (\"Number of rows after filtering our articles where relevance is 'not sure':\",articles_df.shape)\n",
    "\n",
    "# Convert label to a numerical variable (relevant = 1, not-relevant = 0)\n",
    "articles_df['relevance'] = articles_df.relevance.map({'yes':1, 'no':0}) #\n",
    "\n",
    "# Dropping extra columns.\n",
    "articles_df = articles_df[[\"text\",\"relevance\"]]"
   ]
  },
  {
   "cell_type": "markdown",
   "metadata": {
    "colab_type": "text",
    "heading_collapsed": true,
    "id": "fOKz8xQr5xXJ"
   },
   "source": [
    "### Pre-processing"
   ]
  },
  {
   "cell_type": "markdown",
   "metadata": {
    "colab_type": "text",
    "hidden": true,
    "id": "yhC5TZuL5xXK"
   },
   "source": [
    "- Typical steps involve tokenization, lower casing, removing, stop words, punctuation markers etc, and vectorization.\n",
    "- Other processes such as stemming/lemmatization can also be performed. \n",
    "\n",
    "Here, we are performing the following steps: \n",
    "- Removing `<br>` tags\n",
    "- Removing punctuation\n",
    "- Removing numbers\n",
    "- Removing stopwords.\n",
    "\n",
    "We are using sklearn's list of stopwords, but there are several other stop word lists (e.g., from NLTK). One may also use custom stopword lists depending on the task. "
   ]
  },
  {
   "cell_type": "code",
   "execution_count": 5,
   "metadata": {
    "ExecuteTime": {
     "end_time": "2020-08-30T06:46:37.934180Z",
     "start_time": "2020-08-30T06:46:37.898388Z"
    },
    "hidden": true
   },
   "outputs": [
    {
     "data": {
      "text/html": [
       "<div>\n",
       "<style scoped>\n",
       "    .dataframe tbody tr th:only-of-type {\n",
       "        vertical-align: middle;\n",
       "    }\n",
       "\n",
       "    .dataframe tbody tr th {\n",
       "        vertical-align: top;\n",
       "    }\n",
       "\n",
       "    .dataframe thead th {\n",
       "        text-align: right;\n",
       "    }\n",
       "</style>\n",
       "<table border=\"1\" class=\"dataframe\">\n",
       "  <thead>\n",
       "    <tr style=\"text-align: right;\">\n",
       "      <th></th>\n",
       "      <th>text</th>\n",
       "      <th>relevance</th>\n",
       "    </tr>\n",
       "  </thead>\n",
       "  <tbody>\n",
       "    <tr>\n",
       "      <th>0</th>\n",
       "      <td>NEW YORK -- Yields on most certificates of dep...</td>\n",
       "      <td>1</td>\n",
       "    </tr>\n",
       "    <tr>\n",
       "      <th>1</th>\n",
       "      <td>The Wall Street Journal Online&lt;/br&gt;&lt;/br&gt;The Mo...</td>\n",
       "      <td>0</td>\n",
       "    </tr>\n",
       "    <tr>\n",
       "      <th>2</th>\n",
       "      <td>WASHINGTON -- In an effort to achieve banking ...</td>\n",
       "      <td>0</td>\n",
       "    </tr>\n",
       "    <tr>\n",
       "      <th>3</th>\n",
       "      <td>The statistics on the enormous costs of employ...</td>\n",
       "      <td>0</td>\n",
       "    </tr>\n",
       "    <tr>\n",
       "      <th>4</th>\n",
       "      <td>NEW YORK -- Indecision marked the dollar's ton...</td>\n",
       "      <td>1</td>\n",
       "    </tr>\n",
       "  </tbody>\n",
       "</table>\n",
       "</div>"
      ],
      "text/plain": [
       "                                                text  relevance\n",
       "0  NEW YORK -- Yields on most certificates of dep...          1\n",
       "1  The Wall Street Journal Online</br></br>The Mo...          0\n",
       "2  WASHINGTON -- In an effort to achieve banking ...          0\n",
       "3  The statistics on the enormous costs of employ...          0\n",
       "4  NEW YORK -- Indecision marked the dollar's ton...          1"
      ]
     },
     "execution_count": 5,
     "metadata": {},
     "output_type": "execute_result"
    }
   ],
   "source": [
    "articles_df.head()"
   ]
  },
  {
   "cell_type": "code",
   "execution_count": 6,
   "metadata": {
    "ExecuteTime": {
     "end_time": "2020-08-30T06:46:37.963641Z",
     "start_time": "2020-08-30T06:46:37.936379Z"
    },
    "colab": {},
    "colab_type": "code",
    "hidden": true,
    "id": "7MZSHdHZ5xXL"
   },
   "outputs": [],
   "source": [
    "stopwords = stop_words.ENGLISH_STOP_WORDS\n",
    "#Method to clean a document\n",
    "def clean(doc): \n",
    "    #Replacing HTML line breaks with \\n\n",
    "    doc = doc.replace(\"</br>\", \"\\n\") \n",
    "    # Dropping punctuations and digits\n",
    "    doc = \"\".join([char for char in doc if char not in string.punctuation and not char.isdigit()])\n",
    "    #Dropping stopwords\n",
    "    doc = \" \".join([token for token in doc.split() if token not in stopwords])\n",
    "    return doc"
   ]
  },
  {
   "cell_type": "markdown",
   "metadata": {
    "colab_type": "text",
    "id": "3CfVm42o5xXS"
   },
   "source": [
    "## Feature-Engineering and Training (Pipeline 1)\n",
    "\n",
    "Now we are ready for the modelling using the scikit-learn package. \n",
    "\n",
    "##### Steps\n",
    "1. Split the data into training and test sets (75% train, 25% test)    \n",
    "2. Extract features from the training data using CountVectorizer, which is a bag of words feature  implementation. We will use the pre-processing function above in conjunction with Count Vectorizer  \n",
    "3. Transform the test data into the same feature vector as the training data.  \n",
    "4. Train the classifier  \n",
    "5. Evaluate the classifier  "
   ]
  },
  {
   "cell_type": "markdown",
   "metadata": {},
   "source": [
    "#### Step 1: Train-Test Split"
   ]
  },
  {
   "cell_type": "code",
   "execution_count": 7,
   "metadata": {
    "ExecuteTime": {
     "end_time": "2020-08-30T06:46:37.999234Z",
     "start_time": "2020-08-30T06:46:37.966041Z"
    },
    "colab": {
     "base_uri": "https://localhost:8080/",
     "height": 67
    },
    "colab_type": "code",
    "id": "GimJJHhg5xYl",
    "outputId": "e8d8dbea-9a85-4ca9-c41a-6cdd092b68df"
   },
   "outputs": [
    {
     "name": "stdout",
     "output_type": "stream",
     "text": [
      "Input shape : (7991,) \t\t Output shape : (7991,)\n",
      "X_train shape : (5993,) \t y_train shape : (5993,)\n",
      "X_test shape : (5993,) \t\t y_test shape : (1998,)\n"
     ]
    }
   ],
   "source": [
    "import sklearn\n",
    "from sklearn.model_selection import train_test_split\n",
    "\n",
    "# X, our input/independant variable is the column text, from which we will be extracting features\n",
    "# y, our target/dependant variable is the column relevance, which we're learning to predict\n",
    "X = articles_df.text \n",
    "y = articles_df.relevance\n",
    "print(\"Input shape :\",X.shape,\"\\t\\t Output shape :\",y.shape)\n",
    "\n",
    "# split X and y into training and testing sets. By default, it splits 75% training and 25% test\n",
    "#random_state=1 for reproducibility\n",
    "X_train, X_test, y_train, y_test = train_test_split(X, y, random_state=1, train_size=0.75)\n",
    "print(\"X_train shape :\",X_train.shape,\"\\t y_train shape :\",y_train.shape)\n",
    "print(\"X_test shape :\",X_train.shape,\"\\t\\t y_test shape :\",y_test.shape)"
   ]
  },
  {
   "cell_type": "markdown",
   "metadata": {},
   "source": [
    "#### Step 2: Pre-processing and Vectorisation"
   ]
  },
  {
   "cell_type": "code",
   "execution_count": 8,
   "metadata": {
    "ExecuteTime": {
     "end_time": "2020-08-30T06:46:41.399967Z",
     "start_time": "2020-08-30T06:46:38.003788Z"
    },
    "colab": {
     "base_uri": "https://localhost:8080/",
     "height": 34
    },
    "colab_type": "code",
    "id": "gsUyIBUD5xZI",
    "outputId": "f704fb2b-d1f1-4c3a-d220-f05ee1384a61"
   },
   "outputs": [
    {
     "name": "stdout",
     "output_type": "stream",
     "text": [
      "X_train_dtm shape: (5993, 49753) \tX_test_dtm: (1998, 49753)\n"
     ]
    }
   ],
   "source": [
    "#Instantiate a CountVectorizer to vectorise text samples based on token counts\n",
    "vect = CountVectorizer(preprocessor=clean)\n",
    "\n",
    "#Training CountVectorizer & Transforming testing data (using training data's features)\n",
    "X_train_dtm = vect.fit_transform(X_train)\n",
    "X_test_dtm = vect.transform(X_test)\n",
    "\n",
    "print('X_train_dtm shape:',X_train_dtm.shape,'\\tX_test_dtm:', X_test_dtm.shape)\n",
    "#i.e., the dimension of our feature vector is 49753!"
   ]
  },
  {
   "cell_type": "markdown",
   "metadata": {},
   "source": [
    "#### Step 3: Train the classifier"
   ]
  },
  {
   "cell_type": "code",
   "execution_count": 9,
   "metadata": {
    "ExecuteTime": {
     "end_time": "2020-08-30T06:46:41.453896Z",
     "start_time": "2020-08-30T06:46:41.404269Z"
    },
    "colab": {
     "base_uri": "https://localhost:8080/",
     "height": 50
    },
    "colab_type": "code",
    "id": "nDLwA4CL5xZq",
    "outputId": "d1fea858-5e17-4d3e-9450-ae5702114261"
   },
   "outputs": [
    {
     "name": "stdout",
     "output_type": "stream",
     "text": [
      "CPU times: user 8.03 ms, sys: 2.22 ms, total: 10.2 ms\n",
      "Wall time: 9.07 ms\n"
     ]
    }
   ],
   "source": [
    "#Instantiate a Multinomial Naive Bayes model\n",
    "nb = MultinomialNB() \n",
    "\n",
    "#Train the model (while timing it with an IPython \"magic command\")\n",
    "%time nb.fit(X_train_dtm, y_train)\n",
    "\n",
    "# #Make predictions for X_test_dtm (Test data)\n",
    "y_pred_class = nb.predict(X_test_dtm)\n",
    "y_pred_prob = nb.predict_proba(X_test_dtm)[:, 1]"
   ]
  },
  {
   "cell_type": "markdown",
   "metadata": {},
   "source": [
    "#### Step 4: Evaluate the Classifier"
   ]
  },
  {
   "cell_type": "markdown",
   "metadata": {},
   "source": [
    "##### Accuracy and AUC"
   ]
  },
  {
   "cell_type": "code",
   "execution_count": 10,
   "metadata": {
    "ExecuteTime": {
     "end_time": "2020-08-30T06:46:41.486084Z",
     "start_time": "2020-08-30T06:46:41.456192Z"
    }
   },
   "outputs": [
    {
     "data": {
      "text/plain": [
       "0    4915\n",
       "1    1078\n",
       "Name: relevance, dtype: int64"
      ]
     },
     "execution_count": 10,
     "metadata": {},
     "output_type": "execute_result"
    }
   ],
   "source": [
    "pd.Series(y_train).value_counts()"
   ]
  },
  {
   "cell_type": "code",
   "execution_count": 11,
   "metadata": {
    "ExecuteTime": {
     "end_time": "2020-08-30T06:46:41.526404Z",
     "start_time": "2020-08-30T06:46:41.488808Z"
    }
   },
   "outputs": [
    {
     "name": "stdout",
     "output_type": "stream",
     "text": [
      "Accuracy:  0.7822822822822822\n",
      "AUC:  0.7251117679464362\n"
     ]
    }
   ],
   "source": [
    "print(\"Accuracy: \", metrics.accuracy_score(y_test, y_pred_class))\n",
    "print(\"AUC: \", metrics.roc_auc_score(y_test, y_pred_prob))"
   ]
  },
  {
   "cell_type": "markdown",
   "metadata": {},
   "source": [
    "##### Confusing matrix"
   ]
  },
  {
   "cell_type": "code",
   "execution_count": 12,
   "metadata": {
    "ExecuteTime": {
     "end_time": "2020-08-30T06:46:41.814798Z",
     "start_time": "2020-08-30T06:46:41.528618Z"
    },
    "colab": {
     "base_uri": "https://localhost:8080/",
     "height": 494
    },
    "colab_type": "code",
    "id": "LiCHjvc75xZ3",
    "outputId": "5308276c-78cd-48c3-bf5c-1f6eb5321152"
   },
   "outputs": [
    {
     "data": {
      "image/png": "[encoded data removed]",
      "text/plain": [
       "<Figure size 576x432 with 2 Axes>"
      ]
     },
     "metadata": {
      "needs_background": "light"
     },
     "output_type": "display_data"
    }
   ],
   "source": [
    "# Function to plot confusion matrix. \n",
    "# Ref:http://scikit-learn.org/stable/auto_examples/model_selection/plot_confusion_matrix.html\n",
    "import itertools\n",
    "\n",
    "def plot_confusion_matrix(cm, classes,\n",
    "                          normalize=False,\n",
    "                          title='Confusion matrix',\n",
    "                          cmap=plt.cm.Blues):\n",
    "    \"\"\"\n",
    "    This function prints and plots the confusion matrix.\n",
    "    Normalization can be applied by setting `normalize=True`.\n",
    "    \"\"\"\n",
    "    if normalize:\n",
    "        cm = cm.astype('float') / cm.sum(axis=1)[:, np.newaxis]\n",
    "\n",
    "    plt.imshow(cm, interpolation='nearest', cmap=cmap)\n",
    "    plt.title(title)\n",
    "    plt.colorbar()\n",
    "    tick_marks = np.arange(len(classes))\n",
    "    plt.xticks(tick_marks, classes, rotation=45)\n",
    "    plt.yticks(tick_marks, classes)\n",
    "\n",
    "    fmt = '.2f' if normalize else 'd'\n",
    "    thresh = cm.max() / 2.\n",
    "    for i, j in itertools.product(range(cm.shape[0]), range(cm.shape[1])):\n",
    "        plt.text(j, i, format(cm[i, j], fmt),\n",
    "                 horizontalalignment=\"center\",\n",
    "                 color=\"white\" if cm[i, j] > thresh else \"black\")\n",
    "\n",
    "    plt.tight_layout()\n",
    "    plt.ylabel('True label',fontsize=15)\n",
    "    plt.xlabel('Predicted label',fontsize=15)\n",
    "    \n",
    "\n",
    "    \n",
    "# print the confusion matrix\n",
    "cnf_matrix = confusion_matrix(y_test, y_pred_class)\n",
    "plt.figure(figsize=(8,6))\n",
    "plot_confusion_matrix(cnf_matrix, classes=['Not Relevant','Relevant'],normalize=True,\n",
    "                      title='Confusion matrix with all features')"
   ]
  },
  {
   "cell_type": "markdown",
   "metadata": {
    "colab_type": "text",
    "id": "ga5-KhYN5xaD"
   },
   "source": [
    "#### Analysing results\n",
    "\n",
    "- At this point, we can notice that the **classifier is doing poorly with identifying relevant articles**, while it is doing **well with non-relevant ones**. "
   ]
  },
  {
   "cell_type": "markdown",
   "metadata": {
    "heading_collapsed": true
   },
   "source": [
    "## Pipeline 2 : MultinomialNB with 5000 features\n",
    "- Our large feature vector could be creating a lot of noise in the form of very rarely occurring features that are not useful for learning. \n",
    "- Let us change the count vectorizer to take a 5000 of features as maximum, keeping in mind the number of samples available for training (5993)"
   ]
  },
  {
   "cell_type": "code",
   "execution_count": 13,
   "metadata": {
    "ExecuteTime": {
     "end_time": "2020-08-30T06:46:45.060971Z",
     "start_time": "2020-08-30T06:46:41.817251Z"
    },
    "colab": {
     "base_uri": "https://localhost:8080/",
     "height": 510
    },
    "colab_type": "code",
    "hidden": true,
    "id": "ylOI4OsD5xaE",
    "outputId": "1db10ac7-a249-474a-b9f7-7d4e57af93c5"
   },
   "outputs": [
    {
     "name": "stdout",
     "output_type": "stream",
     "text": [
      "X_train_dtm shape: (5993, 5000) \tX_test_dtm: (1998, 5000)\n",
      "CPU times: user 4.94 ms, sys: 1.6 ms, total: 6.54 ms\n",
      "Wall time: 6.38 ms\n"
     ]
    }
   ],
   "source": [
    "#Vectorising the input text\n",
    "vect = CountVectorizer(preprocessor=clean, max_features=5000) #Step-1\n",
    "X_train_dtm = vect.fit_transform(X_train)#combined step 2 and 3\n",
    "X_test_dtm = vect.transform(X_test)\n",
    "print('X_train_dtm shape:',X_train_dtm.shape,'\\tX_test_dtm:', X_test_dtm.shape)\n",
    "\n",
    "#Training the Multinomial Naive Bayes model\n",
    "nb = MultinomialNB() \n",
    "%time nb.fit(X_train_dtm, y_train)#train the model(timing it with an IPython \"magic command\")\n",
    "y_pred_class = nb.predict(X_test_dtm)#make class predictions for X_test_dtm\n",
    "y_pred_prob = nb.predict_proba(X_test_dtm)[:, 1]"
   ]
  },
  {
   "cell_type": "markdown",
   "metadata": {
    "hidden": true
   },
   "source": [
    "#### Accuracy and AUC"
   ]
  },
  {
   "cell_type": "code",
   "execution_count": 14,
   "metadata": {
    "ExecuteTime": {
     "end_time": "2020-08-30T06:46:45.092088Z",
     "start_time": "2020-08-30T06:46:45.062822Z"
    },
    "hidden": true
   },
   "outputs": [
    {
     "name": "stdout",
     "output_type": "stream",
     "text": [
      "Accuracy:  0.6881881881881882\n",
      "AUC:  0.7280807695567421\n"
     ]
    }
   ],
   "source": [
    "print(\"Accuracy: \", metrics.accuracy_score(y_test, y_pred_class))\n",
    "print(\"AUC: \", metrics.roc_auc_score(y_test, y_pred_prob))"
   ]
  },
  {
   "cell_type": "markdown",
   "metadata": {
    "hidden": true
   },
   "source": [
    "#### Confusion Matrix"
   ]
  },
  {
   "cell_type": "code",
   "execution_count": 15,
   "metadata": {
    "ExecuteTime": {
     "end_time": "2020-08-30T06:46:45.399606Z",
     "start_time": "2020-08-30T06:46:45.094156Z"
    },
    "hidden": true
   },
   "outputs": [
    {
     "data": {
      "image/png": "[encoded data removed]",
      "text/plain": [
       "<Figure size 576x432 with 2 Axes>"
      ]
     },
     "metadata": {
      "needs_background": "light"
     },
     "output_type": "display_data"
    }
   ],
   "source": [
    "cnf_matrix = confusion_matrix(y_test, y_pred_class)\n",
    "plt.figure(figsize=(8,6))\n",
    "plot_confusion_matrix(cnf_matrix, classes=['Not Relevant','Relevant'],normalize=True,\n",
    "                      title='Confusion matrix with max 5000 features')"
   ]
  },
  {
   "cell_type": "markdown",
   "metadata": {
    "colab_type": "text",
    "hidden": true,
    "id": "2JzJ6k7g5xaL"
   },
   "source": [
    "Clearly, the performance on relevance classification got better and the AUC has increased even though the overall accuracy fell by 10%. "
   ]
  },
  {
   "cell_type": "markdown",
   "metadata": {
    "heading_collapsed": true
   },
   "source": [
    "## Pipeline 3 : Logistic Regressor with 5000 features\n",
    "Let us try another classification algorithm and see if the performance changes. For this experiment, we have considered logistic regression, with class_weight attribute as \"balanced\", to address the problem of class imbalance in this dataset. "
   ]
  },
  {
   "cell_type": "code",
   "execution_count": 16,
   "metadata": {
    "ExecuteTime": {
     "end_time": "2020-08-30T06:46:45.875955Z",
     "start_time": "2020-08-30T06:46:45.403596Z"
    },
    "colab": {
     "base_uri": "https://localhost:8080/",
     "height": 628
    },
    "colab_type": "code",
    "hidden": true,
    "id": "0v7pM9hB5xbA",
    "outputId": "efcfc795-ad19-44fe-e557-67dc8301363c"
   },
   "outputs": [],
   "source": [
    "from sklearn.linear_model import LogisticRegression\n",
    "\n",
    "#Instantiating and Training a logistic regression model\n",
    "logreg = LogisticRegression(class_weight=\"balanced\", solver='liblinear') \n",
    "logreg.fit(X_train_dtm, y_train)\n",
    "\n",
    "#Making predictions on test data\n",
    "y_pred_class = logreg.predict(X_test_dtm)\n",
    "y_pred_prob = nb.predict_proba(X_test_dtm)[:, 1]"
   ]
  },
  {
   "cell_type": "markdown",
   "metadata": {
    "hidden": true
   },
   "source": [
    "##### Accuracy and AUC"
   ]
  },
  {
   "cell_type": "code",
   "execution_count": 17,
   "metadata": {
    "ExecuteTime": {
     "end_time": "2020-08-30T06:46:45.907251Z",
     "start_time": "2020-08-30T06:46:45.877984Z"
    },
    "hidden": true
   },
   "outputs": [
    {
     "name": "stdout",
     "output_type": "stream",
     "text": [
      "Accuracy:  0.7382382382382382\n",
      "AUC:  0.7280807695567421\n"
     ]
    }
   ],
   "source": [
    "print(\"Accuracy: \", metrics.accuracy_score(y_test, y_pred_class))\n",
    "print(\"AUC: \", metrics.roc_auc_score(y_test, y_pred_prob))"
   ]
  },
  {
   "cell_type": "markdown",
   "metadata": {
    "hidden": true
   },
   "source": [
    "##### Confusion Matrix"
   ]
  },
  {
   "cell_type": "code",
   "execution_count": 18,
   "metadata": {
    "ExecuteTime": {
     "end_time": "2020-08-30T06:46:46.180922Z",
     "start_time": "2020-08-30T06:46:45.909482Z"
    },
    "hidden": true
   },
   "outputs": [
    {
     "data": {
      "image/png": "[encoded data removed]",
      "text/plain": [
       "<Figure size 576x432 with 2 Axes>"
      ]
     },
     "metadata": {
      "needs_background": "light"
     },
     "output_type": "display_data"
    }
   ],
   "source": [
    "cnf_matrix = confusion_matrix(y_test, y_pred_class)\n",
    "plt.figure(figsize=(8,6))\n",
    "plot_confusion_matrix(cnf_matrix, classes=['Not Relevant','Relevant'],normalize=True,\n",
    "                      title='Confusion matrix with normalization')"
   ]
  },
  {
   "cell_type": "markdown",
   "metadata": {},
   "source": [
    "## Pipeline 4 : Linear SVC with 1000 features\n",
    "Let us wrap this notebook by trying with one more classifier, but reducing the feature vector size to 1000."
   ]
  },
  {
   "cell_type": "code",
   "execution_count": 19,
   "metadata": {
    "ExecuteTime": {
     "end_time": "2020-08-30T06:46:50.975533Z",
     "start_time": "2020-08-30T06:46:46.184106Z"
    },
    "colab": {
     "base_uri": "https://localhost:8080/",
     "height": 527
    },
    "colab_type": "code",
    "id": "XJLKusAQ5xbf",
    "outputId": "2d8342ee-cf45-45d5-8a08-cf996b6fbdd8"
   },
   "outputs": [
    {
     "name": "stderr",
     "output_type": "stream",
     "text": [
      "/Users/vishalgupta/anaconda3/envs/nlp/lib/python3.6/site-packages/sklearn/svm/_base.py:977: ConvergenceWarning: Liblinear failed to converge, increase the number of iterations.\n",
      "  \"the number of iterations.\", ConvergenceWarning)\n"
     ]
    },
    {
     "data": {
      "image/png": "[encoded data removed]",
      "text/plain": [
       "<Figure size 576x432 with 2 Axes>"
      ]
     },
     "metadata": {
      "needs_background": "light"
     },
     "output_type": "display_data"
    }
   ],
   "source": [
    "vect = CountVectorizer(preprocessor=clean, max_features=1000) #Step-1\n",
    "X_train_dtm = vect.fit_transform(X_train)\n",
    "X_test_dtm = vect.transform(X_test)\n",
    "\n",
    "#Instantiate and Train a Linear SVC model\n",
    "classifier = LinearSVC()\n",
    "classifier.fit(X_train_dtm, y_train)\n",
    "\n",
    "#Make predictions on test data\n",
    "y_pred_class = classifier.predict(X_test_dtm)\n",
    "\n",
    "cnf_matrix = confusion_matrix(y_test, y_pred_class)\n",
    "plt.figure(figsize=(8,6))\n",
    "plot_confusion_matrix(cnf_matrix, classes=['Not Relevant','Relevant'],normalize=True,\n",
    "                      title='Confusion matrix with normalization')"
   ]
  },
  {
   "cell_type": "markdown",
   "metadata": {},
   "source": [
    "##### Accuracy"
   ]
  },
  {
   "cell_type": "code",
   "execution_count": 20,
   "metadata": {
    "ExecuteTime": {
     "end_time": "2020-08-30T06:46:51.017401Z",
     "start_time": "2020-08-30T06:46:50.980728Z"
    }
   },
   "outputs": [
    {
     "name": "stdout",
     "output_type": "stream",
     "text": [
      "Accuracy:  0.7862862862862863\n"
     ]
    }
   ],
   "source": [
    "print(\"Accuracy: \", metrics.accuracy_score(y_test, y_pred_class))"
   ]
  },
  {
   "cell_type": "markdown",
   "metadata": {},
   "source": [
    "##### Confusion Matrix"
   ]
  },
  {
   "cell_type": "code",
   "execution_count": 21,
   "metadata": {
    "ExecuteTime": {
     "end_time": "2020-08-30T06:46:51.325258Z",
     "start_time": "2020-08-30T06:46:51.020475Z"
    }
   },
   "outputs": [
    {
     "data": {
      "image/png": "[encoded data removed]",
      "text/plain": [
       "<Figure size 576x432 with 2 Axes>"
      ]
     },
     "metadata": {
      "needs_background": "light"
     },
     "output_type": "display_data"
    }
   ],
   "source": [
    "cnf_matrix = confusion_matrix(y_test, y_pred_class)\n",
    "plt.figure(figsize=(8,6))\n",
    "plot_confusion_matrix(cnf_matrix, classes=['Not Relevant','Relevant'],normalize=True,\n",
    "                      title='Confusion matrix with normalization')"
   ]
  },
  {
   "cell_type": "markdown",
   "metadata": {
    "colab_type": "text",
    "id": "Fd_-M70F5xbl"
   },
   "source": [
    "## Conclusion\n",
    "So, how do we choose whats the best? If we look at overall accuracy alone, we should be choosing the very first classifier in this notebook. However, that is also doing poorly with identifying \"relevant\" articles. If we choose purely based on how good it is doing with \"relevant\" category, we should choose the second one we built. If we choose purely based on how good it is doing with \"irrelevant\" category, surely, nothing beats not building any classifier and just calling everything irrelevant! So, what to choose as the best among these depends on what we are looking for in our usecase! "
   ]
  }
 ],
 "metadata": {
  "colab": {
   "name": "Notebook_1.ipynb",
   "provenance": []
  },
  "kernelspec": {
   "display_name": "Python 3",
   "language": "python",
   "name": "python3"
  },
  "language_info": {
   "codemirror_mode": {
    "name": "ipython",
    "version": 3
   },
   "file_extension": ".py",
   "mimetype": "text/x-python",
   "name": "python",
   "nbconvert_exporter": "python",
   "pygments_lexer": "ipython3",
   "version": "3.6.10"
  }
 },
 "nbformat": 4,
 "nbformat_minor": 1
}
